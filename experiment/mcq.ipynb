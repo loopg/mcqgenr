{
 "cells": [
  {
   "cell_type": "code",
   "execution_count": 4,
   "metadata": {},
   "outputs": [],
   "source": [
    "import os\n",
    "import json\n",
    "import pandas as pd\n",
    "import traceback"
   ]
  },
  {
   "cell_type": "code",
   "execution_count": 5,
   "metadata": {},
   "outputs": [],
   "source": [
    "from langchain_openai import ChatOpenAI"
   ]
  },
  {
   "cell_type": "code",
   "execution_count": 6,
   "metadata": {},
   "outputs": [
    {
     "data": {
      "text/plain": [
       "True"
      ]
     },
     "execution_count": 6,
     "metadata": {},
     "output_type": "execute_result"
    }
   ],
   "source": [
    "from dotenv import load_dotenv\n",
    "\n",
    "load_dotenv()  # take environment variables from .env."
   ]
  },
  {
   "cell_type": "code",
   "execution_count": 7,
   "metadata": {},
   "outputs": [],
   "source": [
    "KEY=os.getenv(\"OPENAI_API_KEY\")"
   ]
  },
  {
   "cell_type": "code",
   "execution_count": 9,
   "metadata": {},
   "outputs": [],
   "source": [
    "llm=ChatOpenAI(openai_api_key=KEY,model_name=\"gpt-3.5-turbo\", temperature=0.5)"
   ]
  },
  {
   "cell_type": "code",
   "execution_count": 10,
   "metadata": {},
   "outputs": [
    {
     "data": {
      "text/plain": [
       "ChatOpenAI(client=<openai.resources.chat.completions.Completions object at 0x000001F1E11DCBC0>, async_client=<openai.resources.chat.completions.AsyncCompletions object at 0x000001F1E11DE3C0>, temperature=0.5, openai_api_key=SecretStr('**********'), openai_proxy='')"
      ]
     },
     "execution_count": 10,
     "metadata": {},
     "output_type": "execute_result"
    }
   ],
   "source": [
    "llm"
   ]
  },
  {
   "cell_type": "code",
   "execution_count": 11,
   "metadata": {},
   "outputs": [],
   "source": [
    "from langchain.llms import OpenAI\n",
    "from langchain.prompts import PromptTemplate\n",
    "from langchain.chains import LLMChain\n",
    "from langchain.chains import SequentialChain\n",
    "from langchain.callbacks import get_openai_callback\n",
    "import PyPDF2"
   ]
  },
  {
   "cell_type": "code",
   "execution_count": 12,
   "metadata": {},
   "outputs": [],
   "source": [
    "RESPONSE_JSON = {\n",
    "    \"1\": {\n",
    "        \"mcq\": \"multiple choice question\",\n",
    "        \"options\": {\n",
    "            \"a\": \"choice here\",\n",
    "            \"b\": \"choice here\",\n",
    "            \"c\": \"choice here\",\n",
    "            \"d\": \"choice here\",\n",
    "        },\n",
    "        \"correct\": \"correct answer\",\n",
    "    },\n",
    "    \"2\": {\n",
    "        \"mcq\": \"multiple choice question\",\n",
    "        \"options\": {\n",
    "            \"a\": \"choice here\",\n",
    "            \"b\": \"choice here\",\n",
    "            \"c\": \"choice here\",\n",
    "            \"d\": \"choice here\",\n",
    "        },\n",
    "        \"correct\": \"correct answer\",\n",
    "    },\n",
    "    \"3\": {\n",
    "        \"mcq\": \"multiple choice question\",\n",
    "        \"options\": {\n",
    "            \"a\": \"choice here\",\n",
    "            \"b\": \"choice here\",\n",
    "            \"c\": \"choice here\",\n",
    "            \"d\": \"choice here\",\n",
    "        },\n",
    "        \"correct\": \"correct answer\",\n",
    "    },\n",
    "}"
   ]
  },
  {
   "cell_type": "code",
   "execution_count": 13,
   "metadata": {},
   "outputs": [],
   "source": [
    "TEMPLATE=\"\"\"\n",
    "Text:{text}\n",
    "You are an expert MCQ maker. Given the above text, it is your job to \\\n",
    "create a quiz  of {number} multiple choice questions for {subject} students in {tone} tone. \n",
    "Make sure the questions are not repeated and check all the questions to be conforming the text as well.\n",
    "Make sure to format your response like  RESPONSE_JSON below  and use it as a guide. \\\n",
    "Ensure to make {number} MCQs\n",
    "### RESPONSE_JSON\n",
    "{response_json}\n",
    "\n",
    "\"\"\""
   ]
  },
  {
   "cell_type": "code",
   "execution_count": 14,
   "metadata": {},
   "outputs": [],
   "source": [
    "quiz_generation_prompt = PromptTemplate(\n",
    "    input_variables=[\"text\", \"number\", \"subject\", \"tone\", \"response_json\"],\n",
    "    template=TEMPLATE\n",
    "    )"
   ]
  },
  {
   "cell_type": "code",
   "execution_count": 15,
   "metadata": {},
   "outputs": [],
   "source": [
    "quiz_chain=LLMChain(llm=llm, prompt=quiz_generation_prompt, output_key=\"quiz\", verbose=True)"
   ]
  },
  {
   "cell_type": "code",
   "execution_count": 16,
   "metadata": {},
   "outputs": [],
   "source": [
    "TEMPLATE2=\"\"\"\n",
    "You are an expert english grammarian and writer. Given a Multiple Choice Quiz for {subject} students.\\\n",
    "You need to evaluate the complexity of the question and give a complete analysis of the quiz. Only use at max 50 words for complexity analysis. \n",
    "if the quiz is not at per with the cognitive and analytical abilities of the students,\\\n",
    "update the quiz questions which needs to be changed and change the tone such that it perfectly fits the student abilities\n",
    "Quiz_MCQs:\n",
    "{quiz}\n",
    "\n",
    "Check from an expert English Writer of the above quiz:\n",
    "\"\"\""
   ]
  },
  {
   "cell_type": "code",
   "execution_count": 17,
   "metadata": {},
   "outputs": [],
   "source": [
    "quiz_evaluation_prompt=PromptTemplate(input_variables=[\"subject\", \"quiz\"], template=TEMPLATE)"
   ]
  },
  {
   "cell_type": "code",
   "execution_count": 18,
   "metadata": {},
   "outputs": [],
   "source": [
    "review_chain=LLMChain(llm=llm, prompt=quiz_evaluation_prompt, output_key=\"review\", verbose=True)"
   ]
  },
  {
   "cell_type": "code",
   "execution_count": 19,
   "metadata": {},
   "outputs": [],
   "source": [
    "generate_evaluate_chain=SequentialChain(chains=[quiz_chain, review_chain], input_variables=[\"text\", \"number\", \"subject\", \"tone\", \"response_json\"],\n",
    "                                        output_variables=[\"quiz\", \"review\"], verbose=True,)"
   ]
  },
  {
   "cell_type": "code",
   "execution_count": 23,
   "metadata": {},
   "outputs": [],
   "source": [
    "file_path=r\"C:\\Users\\sahil pandey\\genq.txt\""
   ]
  },
  {
   "cell_type": "code",
   "execution_count": 24,
   "metadata": {},
   "outputs": [
    {
     "data": {
      "text/plain": [
       "'C:\\\\Users\\\\sahil pandey\\\\genq.txt'"
      ]
     },
     "execution_count": 24,
     "metadata": {},
     "output_type": "execute_result"
    }
   ],
   "source": [
    "file_path"
   ]
  },
  {
   "cell_type": "code",
   "execution_count": 25,
   "metadata": {},
   "outputs": [],
   "source": [
    "with open(file_path, 'r') as file:\n",
    "    TEXT = file.read()"
   ]
  },
  {
   "cell_type": "code",
   "execution_count": 26,
   "metadata": {},
   "outputs": [
    {
     "name": "stdout",
     "output_type": "stream",
     "text": [
      "India is a federal republic comprising 28 states and 8 union territories. The states and union territories are further subdivided into districts and smaller administrative divisions.\n",
      "\n",
      "The states are self-governing administrative divisions, each having a state government. The governing powers of the states are shared between the state government and the union government. The union territories are directly governed by the union government though some of the union territories have their own territorial government with certain autonomy.\n",
      "\n",
      "The framework for the states and union territories were established by the Constitution of India, which came into effect on 26 January 1950. As per the Indian Constitution, the power to demarcate states and union territories in India is solely reserved with the Parliament of India, which can form new states/union territories, separate/merge territories from/to an existing state or convert states to union territories or vice versa.\n",
      "\n",
      "History\n",
      "British Raj: before 1947\n",
      "After the Indian Rebellion of 1857, the British Crown took over the administration of India from the rule of the British East India Company through the Government of India Act 1858.[1] During the British Raj, India was a complex political entity consisting of various imperial divisions and states and territories of varying autonomy. It was made up of two types of territory: British India and native Princely States.[2] Apart from the provinces directly ruled territories of the Crown, there were 584 constituent states with suzerainty over 175 princely states was exercised by the central government of British India under the viceroy in the name of the British Crown and the remaining states were dependents of the provincial governments of British India under a governor, lieutenant-governor, or chief commissioner.[3] In 1907, there were seven major and three minor provinces within the boundaries of present-day India, which were ruled by a Governor, Lieutenant-Governor or a Chief Commissioner on behalf of the Emperor of India.[a][3]\n"
     ]
    }
   ],
   "source": [
    "print(TEXT)"
   ]
  },
  {
   "cell_type": "code",
   "execution_count": 27,
   "metadata": {},
   "outputs": [
    {
     "data": {
      "text/plain": [
       "'{\"1\": {\"mcq\": \"multiple choice question\", \"options\": {\"a\": \"choice here\", \"b\": \"choice here\", \"c\": \"choice here\", \"d\": \"choice here\"}, \"correct\": \"correct answer\"}, \"2\": {\"mcq\": \"multiple choice question\", \"options\": {\"a\": \"choice here\", \"b\": \"choice here\", \"c\": \"choice here\", \"d\": \"choice here\"}, \"correct\": \"correct answer\"}, \"3\": {\"mcq\": \"multiple choice question\", \"options\": {\"a\": \"choice here\", \"b\": \"choice here\", \"c\": \"choice here\", \"d\": \"choice here\"}, \"correct\": \"correct answer\"}}'"
      ]
     },
     "execution_count": 27,
     "metadata": {},
     "output_type": "execute_result"
    }
   ],
   "source": [
    "# Serialize the Python dictionary into a JSON-formatted string\n",
    "json.dumps(RESPONSE_JSON)"
   ]
  },
  {
   "cell_type": "code",
   "execution_count": 28,
   "metadata": {},
   "outputs": [],
   "source": [
    "NUMBER=5 \n",
    "SUBJECT=\"Indian states\"\n",
    "TONE=\"simple\""
   ]
  },
  {
   "cell_type": "code",
   "execution_count": 29,
   "metadata": {},
   "outputs": [
    {
     "name": "stderr",
     "output_type": "stream",
     "text": [
      "c:\\Users\\sahil pandey\\mcqgenr\\venv\\Lib\\site-packages\\langchain_core\\_api\\deprecation.py:119: LangChainDeprecationWarning: The method `Chain.__call__` was deprecated in langchain 0.1.0 and will be removed in 0.2.0. Use invoke instead.\n",
      "  warn_deprecated(\n"
     ]
    },
    {
     "name": "stdout",
     "output_type": "stream",
     "text": [
      "\n",
      "\n",
      "\u001b[1m> Entering new SequentialChain chain...\u001b[0m\n",
      "\n",
      "\n",
      "\u001b[1m> Entering new LLMChain chain...\u001b[0m\n",
      "Prompt after formatting:\n",
      "\u001b[32;1m\u001b[1;3m\n",
      "Text:India is a federal republic comprising 28 states and 8 union territories. The states and union territories are further subdivided into districts and smaller administrative divisions.\n",
      "\n",
      "The states are self-governing administrative divisions, each having a state government. The governing powers of the states are shared between the state government and the union government. The union territories are directly governed by the union government though some of the union territories have their own territorial government with certain autonomy.\n",
      "\n",
      "The framework for the states and union territories were established by the Constitution of India, which came into effect on 26 January 1950. As per the Indian Constitution, the power to demarcate states and union territories in India is solely reserved with the Parliament of India, which can form new states/union territories, separate/merge territories from/to an existing state or convert states to union territories or vice versa.\n",
      "\n",
      "History\n",
      "British Raj: before 1947\n",
      "After the Indian Rebellion of 1857, the British Crown took over the administration of India from the rule of the British East India Company through the Government of India Act 1858.[1] During the British Raj, India was a complex political entity consisting of various imperial divisions and states and territories of varying autonomy. It was made up of two types of territory: British India and native Princely States.[2] Apart from the provinces directly ruled territories of the Crown, there were 584 constituent states with suzerainty over 175 princely states was exercised by the central government of British India under the viceroy in the name of the British Crown and the remaining states were dependents of the provincial governments of British India under a governor, lieutenant-governor, or chief commissioner.[3] In 1907, there were seven major and three minor provinces within the boundaries of present-day India, which were ruled by a Governor, Lieutenant-Governor or a Chief Commissioner on behalf of the Emperor of India.[a][3]\n",
      "You are an expert MCQ maker. Given the above text, it is your job to create a quiz  of 5 multiple choice questions for Indian states students in simple tone. \n",
      "Make sure the questions are not repeated and check all the questions to be conforming the text as well.\n",
      "Make sure to format your response like  RESPONSE_JSON below  and use it as a guide. Ensure to make 5 MCQs\n",
      "### RESPONSE_JSON\n",
      "{\"1\": {\"mcq\": \"multiple choice question\", \"options\": {\"a\": \"choice here\", \"b\": \"choice here\", \"c\": \"choice here\", \"d\": \"choice here\"}, \"correct\": \"correct answer\"}, \"2\": {\"mcq\": \"multiple choice question\", \"options\": {\"a\": \"choice here\", \"b\": \"choice here\", \"c\": \"choice here\", \"d\": \"choice here\"}, \"correct\": \"correct answer\"}, \"3\": {\"mcq\": \"multiple choice question\", \"options\": {\"a\": \"choice here\", \"b\": \"choice here\", \"c\": \"choice here\", \"d\": \"choice here\"}, \"correct\": \"correct answer\"}}\n",
      "\n",
      "\u001b[0m\n",
      "\n",
      "\u001b[1m> Finished chain.\u001b[0m\n",
      "\n",
      "\n",
      "\u001b[1m> Entering new LLMChain chain...\u001b[0m\n",
      "Prompt after formatting:\n",
      "\u001b[32;1m\u001b[1;3m\n",
      "Text:India is a federal republic comprising 28 states and 8 union territories. The states and union territories are further subdivided into districts and smaller administrative divisions.\n",
      "\n",
      "The states are self-governing administrative divisions, each having a state government. The governing powers of the states are shared between the state government and the union government. The union territories are directly governed by the union government though some of the union territories have their own territorial government with certain autonomy.\n",
      "\n",
      "The framework for the states and union territories were established by the Constitution of India, which came into effect on 26 January 1950. As per the Indian Constitution, the power to demarcate states and union territories in India is solely reserved with the Parliament of India, which can form new states/union territories, separate/merge territories from/to an existing state or convert states to union territories or vice versa.\n",
      "\n",
      "History\n",
      "British Raj: before 1947\n",
      "After the Indian Rebellion of 1857, the British Crown took over the administration of India from the rule of the British East India Company through the Government of India Act 1858.[1] During the British Raj, India was a complex political entity consisting of various imperial divisions and states and territories of varying autonomy. It was made up of two types of territory: British India and native Princely States.[2] Apart from the provinces directly ruled territories of the Crown, there were 584 constituent states with suzerainty over 175 princely states was exercised by the central government of British India under the viceroy in the name of the British Crown and the remaining states were dependents of the provincial governments of British India under a governor, lieutenant-governor, or chief commissioner.[3] In 1907, there were seven major and three minor provinces within the boundaries of present-day India, which were ruled by a Governor, Lieutenant-Governor or a Chief Commissioner on behalf of the Emperor of India.[a][3]\n",
      "You are an expert MCQ maker. Given the above text, it is your job to create a quiz  of 5 multiple choice questions for Indian states students in simple tone. \n",
      "Make sure the questions are not repeated and check all the questions to be conforming the text as well.\n",
      "Make sure to format your response like  RESPONSE_JSON below  and use it as a guide. Ensure to make 5 MCQs\n",
      "### RESPONSE_JSON\n",
      "{\"1\": {\"mcq\": \"multiple choice question\", \"options\": {\"a\": \"choice here\", \"b\": \"choice here\", \"c\": \"choice here\", \"d\": \"choice here\"}, \"correct\": \"correct answer\"}, \"2\": {\"mcq\": \"multiple choice question\", \"options\": {\"a\": \"choice here\", \"b\": \"choice here\", \"c\": \"choice here\", \"d\": \"choice here\"}, \"correct\": \"correct answer\"}, \"3\": {\"mcq\": \"multiple choice question\", \"options\": {\"a\": \"choice here\", \"b\": \"choice here\", \"c\": \"choice here\", \"d\": \"choice here\"}, \"correct\": \"correct answer\"}}\n",
      "\n",
      "\u001b[0m\n",
      "\n",
      "\u001b[1m> Finished chain.\u001b[0m\n",
      "\n",
      "\u001b[1m> Finished chain.\u001b[0m\n"
     ]
    }
   ],
   "source": [
    "#https://python.langchain.com/docs/modules/model_io/llms/token_usage_tracking\n",
    "\n",
    "#How to setup Token Usage Tracking in LangChain\n",
    "with get_openai_callback() as cb:\n",
    "    response=generate_evaluate_chain(\n",
    "        {\n",
    "            \"text\": TEXT,\n",
    "            \"number\": NUMBER,\n",
    "            \"subject\":SUBJECT,\n",
    "            \"tone\": TONE,\n",
    "            \"response_json\": json.dumps(RESPONSE_JSON)\n",
    "        }\n",
    "        )"
   ]
  },
  {
   "cell_type": "code",
   "execution_count": 30,
   "metadata": {},
   "outputs": [
    {
     "name": "stdout",
     "output_type": "stream",
     "text": [
      "Total Tokens:1979\n",
      "Prompt Tokens:1284\n",
      "Completion Tokens:695\n",
      "Total Cost:0.0033160000000000004\n"
     ]
    }
   ],
   "source": [
    "print(f\"Total Tokens:{cb.total_tokens}\")\n",
    "print(f\"Prompt Tokens:{cb.prompt_tokens}\")\n",
    "print(f\"Completion Tokens:{cb.completion_tokens}\")\n",
    "print(f\"Total Cost:{cb.total_cost}\")"
   ]
  },
  {
   "cell_type": "code",
   "execution_count": 31,
   "metadata": {},
   "outputs": [
    {
     "data": {
      "text/plain": [
       "{'text': 'India is a federal republic comprising 28 states and 8 union territories. The states and union territories are further subdivided into districts and smaller administrative divisions.\\n\\nThe states are self-governing administrative divisions, each having a state government. The governing powers of the states are shared between the state government and the union government. The union territories are directly governed by the union government though some of the union territories have their own territorial government with certain autonomy.\\n\\nThe framework for the states and union territories were established by the Constitution of India, which came into effect on 26 January 1950. As per the Indian Constitution, the power to demarcate states and union territories in India is solely reserved with the Parliament of India, which can form new states/union territories, separate/merge territories from/to an existing state or convert states to union territories or vice versa.\\n\\nHistory\\nBritish Raj: before 1947\\nAfter the Indian Rebellion of 1857, the British Crown took over the administration of India from the rule of the British East India Company through the Government of India Act 1858.[1] During the British Raj, India was a complex political entity consisting of various imperial divisions and states and territories of varying autonomy. It was made up of two types of territory: British India and native Princely States.[2] Apart from the provinces directly ruled territories of the Crown, there were 584 constituent states with suzerainty over 175 princely states was exercised by the central government of British India under the viceroy in the name of the British Crown and the remaining states were dependents of the provincial governments of British India under a governor, lieutenant-governor, or chief commissioner.[3] In 1907, there were seven major and three minor provinces within the boundaries of present-day India, which were ruled by a Governor, Lieutenant-Governor or a Chief Commissioner on behalf of the Emperor of India.[a][3]',\n",
       " 'number': 5,\n",
       " 'subject': 'Indian states',\n",
       " 'tone': 'simple',\n",
       " 'response_json': '{\"1\": {\"mcq\": \"multiple choice question\", \"options\": {\"a\": \"choice here\", \"b\": \"choice here\", \"c\": \"choice here\", \"d\": \"choice here\"}, \"correct\": \"correct answer\"}, \"2\": {\"mcq\": \"multiple choice question\", \"options\": {\"a\": \"choice here\", \"b\": \"choice here\", \"c\": \"choice here\", \"d\": \"choice here\"}, \"correct\": \"correct answer\"}, \"3\": {\"mcq\": \"multiple choice question\", \"options\": {\"a\": \"choice here\", \"b\": \"choice here\", \"c\": \"choice here\", \"d\": \"choice here\"}, \"correct\": \"correct answer\"}}',\n",
       " 'quiz': '\\n{\\n\"1\": {\\n\"mcq\": \"How many states and union territories does India comprise?\",\\n\"options\": {\"a\": \"20 states and 10 union territories\", \"b\": \"28 states and 8 union territories\", \"c\": \"30 states and 6 union territories\", \"d\": \"25 states and 5 union territories\"},\\n\"correct\": \"b\"\\n},\\n\"2\": {\\n\"mcq\": \"Who has the power to demarcate states and union territories in India?\",\\n\"options\": {\"a\": \"President of India\", \"b\": \"Prime Minister of India\", \"c\": \"Parliament of India\", \"d\": \"Supreme Court of India\"},\\n\"correct\": \"c\"\\n},\\n\"3\": {\\n\"mcq\": \"Which act led to the British Crown taking over the administration of India from the British East India Company?\",\\n\"options\": {\"a\": \"Government of India Act 1858\", \"b\": \"Indian Rebellion Act 1857\", \"c\": \"British Raj Act 1860\", \"d\": \"Indian Administration Act 1862\"},\\n\"correct\": \"a\"\\n},\\n\"4\": {\\n\"mcq\": \"How many major provinces were there in India in 1907 during the British Raj?\",\\n\"options\": {\"a\": \"5\", \"b\": \"7\", \"c\": \"10\", \"d\": \"12\"},\\n\"correct\": \"b\"\\n},\\n\"5\": {\\n\"mcq\": \"Who exercised suzerainty over the princely states in British India?\",\\n\"options\": {\"a\": \"British Crown\", \"b\": \"Viceroy of India\", \"c\": \"Governor of India\", \"d\": \"Emperor of India\"},\\n\"correct\": \"a\"\\n}\\n}',\n",
       " 'review': '{\\n\"1\": {\\n\"mcq\": \"How many states are there in India?\",\\n\"options\": {\\n\"a\": \"25 states\",\\n\"b\": \"28 states\",\\n\"c\": \"30 states\",\\n\"d\": \"32 states\"\\n},\\n\"correct\": \"b\"\\n},\\n\"2\": {\\n\"mcq\": \"What is the governing power structure of the states in India?\",\\n\"options\": {\\n\"a\": \"Only state government\",\\n\"b\": \"Only union government\",\\n\"c\": \"Shared between state and union government\",\\n\"d\": \"None of the above\"\\n},\\n\"correct\": \"c\"\\n},\\n\"3\": {\\n\"mcq\": \"Who has the power to demarcate states and union territories in India?\",\\n\"options\": {\\n\"a\": \"State governments\",\\n\"b\": \"Local authorities\",\\n\"c\": \"Parliament of India\",\\n\"d\": \"Prime Minister\"\\n},\\n\"correct\": \"c\"\\n},\\n\"4\": {\\n\"mcq\": \"When did the Constitution of India come into effect?\",\\n\"options\": {\\n\"a\": \"15 August 1947\",\\n\"b\": \"26 January 1950\",\\n\"c\": \"2 October 1952\",\\n\"d\": \"1 April 1948\"\\n},\\n\"correct\": \"b\"\\n},\\n\"5\": {\\n\"mcq\": \"During the British Raj, what were the two types of territories in India?\",\\n\"options\": {\\n\"a\": \"Colonial India and Princely States\",\\n\"b\": \"British India and French India\",\\n\"c\": \"Crown territories and Provincial territories\",\\n\"d\": \"British India and native Princely States\"\\n},\\n\"correct\": \"d\"\\n}\\n}'}"
      ]
     },
     "execution_count": 31,
     "metadata": {},
     "output_type": "execute_result"
    }
   ],
   "source": [
    "response"
   ]
  },
  {
   "cell_type": "code",
   "execution_count": 32,
   "metadata": {},
   "outputs": [],
   "source": [
    "quiz=response.get(\"quiz\")"
   ]
  },
  {
   "cell_type": "code",
   "execution_count": 33,
   "metadata": {},
   "outputs": [],
   "source": [
    "quiz=json.loads(quiz)"
   ]
  },
  {
   "cell_type": "code",
   "execution_count": 34,
   "metadata": {},
   "outputs": [],
   "source": [
    "quiz_table_data = []\n",
    "for key, value in quiz.items():\n",
    "    mcq = value[\"mcq\"]\n",
    "    options = \" | \".join(\n",
    "        [\n",
    "            f\"{option}: {option_value}\"\n",
    "            for option, option_value in value[\"options\"].items()\n",
    "            ]\n",
    "        )\n",
    "    correct = value[\"correct\"]\n",
    "    quiz_table_data.append({\"MCQ\": mcq, \"Choices\": options, \"Correct\": correct})"
   ]
  },
  {
   "cell_type": "code",
   "execution_count": 35,
   "metadata": {},
   "outputs": [
    {
     "data": {
      "text/plain": [
       "[{'MCQ': 'How many states and union territories does India comprise?',\n",
       "  'Choices': 'a: 20 states and 10 union territories | b: 28 states and 8 union territories | c: 30 states and 6 union territories | d: 25 states and 5 union territories',\n",
       "  'Correct': 'b'},\n",
       " {'MCQ': 'Who has the power to demarcate states and union territories in India?',\n",
       "  'Choices': 'a: President of India | b: Prime Minister of India | c: Parliament of India | d: Supreme Court of India',\n",
       "  'Correct': 'c'},\n",
       " {'MCQ': 'Which act led to the British Crown taking over the administration of India from the British East India Company?',\n",
       "  'Choices': 'a: Government of India Act 1858 | b: Indian Rebellion Act 1857 | c: British Raj Act 1860 | d: Indian Administration Act 1862',\n",
       "  'Correct': 'a'},\n",
       " {'MCQ': 'How many major provinces were there in India in 1907 during the British Raj?',\n",
       "  'Choices': 'a: 5 | b: 7 | c: 10 | d: 12',\n",
       "  'Correct': 'b'},\n",
       " {'MCQ': 'Who exercised suzerainty over the princely states in British India?',\n",
       "  'Choices': 'a: British Crown | b: Viceroy of India | c: Governor of India | d: Emperor of India',\n",
       "  'Correct': 'a'}]"
      ]
     },
     "execution_count": 35,
     "metadata": {},
     "output_type": "execute_result"
    }
   ],
   "source": [
    "quiz_table_data"
   ]
  },
  {
   "cell_type": "code",
   "execution_count": 36,
   "metadata": {},
   "outputs": [],
   "source": [
    "quiz=pd.DataFrame(quiz_table_data)"
   ]
  },
  {
   "cell_type": "code",
   "execution_count": 37,
   "metadata": {},
   "outputs": [],
   "source": [
    "quiz.to_csv(\"machinelearning.csv\",index=False)"
   ]
  },
  {
   "cell_type": "code",
   "execution_count": 38,
   "metadata": {},
   "outputs": [
    {
     "data": {
      "text/plain": [
       "'04_27_2024_01_55_02'"
      ]
     },
     "execution_count": 38,
     "metadata": {},
     "output_type": "execute_result"
    }
   ],
   "source": [
    "from datetime import datetime\n",
    "datetime.now().strftime('%m_%d_%Y_%H_%M_%S')"
   ]
  },
  {
   "cell_type": "code",
   "execution_count": null,
   "metadata": {},
   "outputs": [],
   "source": []
  }
 ],
 "metadata": {
  "kernelspec": {
   "display_name": "base",
   "language": "python",
   "name": "python3"
  },
  "language_info": {
   "codemirror_mode": {
    "name": "ipython",
    "version": 3
   },
   "file_extension": ".py",
   "mimetype": "text/x-python",
   "name": "python",
   "nbconvert_exporter": "python",
   "pygments_lexer": "ipython3",
   "version": "3.12.1"
  }
 },
 "nbformat": 4,
 "nbformat_minor": 2
}
